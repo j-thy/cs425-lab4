{
 "cells": [
  {
   "cell_type": "markdown",
   "metadata": {},
   "source": [
    "# Lab 4 Part 2: SVM\n",
    "Jonathan Ting"
   ]
  },
  {
   "cell_type": "code",
   "execution_count": null,
   "metadata": {},
   "outputs": [],
   "source": [
    "# Read in the Stars.csv dataset using pandas\n",
    "    # Create the y label vector, which will be the Type column.\n",
    "# The features we will be using for prediction are the columns:\n",
    "    # Temperature\n",
    "    # L\n",
    "    # R\n",
    "    # A_M\n",
    "# Anywhere you are asked to create a train-test split on the data, you should use:\n",
    "    # Fixed random state for the LinearSVC classifier throughout\n",
    "    # Test size=0.2"
   ]
  },
  {
   "cell_type": "markdown",
   "metadata": {},
   "source": [
    "## Question 2.1"
   ]
  },
  {
   "cell_type": "code",
   "execution_count": null,
   "metadata": {},
   "outputs": [],
   "source": [
    "# Finding hyperparameters.\n",
    "# Create a validation set and subtraining set from the training set\n",
    "    # (a single validation set, rather than KFolds)\n",
    "    # 0.125 of the training set serves as the validation set.\n",
    "# Fit the LinearSVC classifier on the training set.\n",
    "    # Evaluate on the validation set for all combinations of:\n",
    "        # max iter=[1000, 10000, 100000, 1000000]\n",
    "        # C=[0.01, 0.1, 1, 10, 100, 1000]\n",
    "# Print the validation accuracy for each combination\n",
    "    # Show a heatmap comparing the validation accuracies across the combinations.\n",
    "        # (include a colorbar)"
   ]
  },
  {
   "cell_type": "markdown",
   "metadata": {},
   "source": [
    "## Question 2.2"
   ]
  },
  {
   "cell_type": "code",
   "execution_count": null,
   "metadata": {},
   "outputs": [],
   "source": [
    "# Use the maximum iterations and C values you found to perform best to inform how you create your LinearSVC().\n",
    "    # Fit on the whole training set.\n",
    "# Compute and print the training and testing accuracy for the Stars dataset."
   ]
  }
 ],
 "metadata": {
  "language_info": {
   "name": "python"
  }
 },
 "nbformat": 4,
 "nbformat_minor": 2
}
