{
 "cells": [
  {
   "cell_type": "markdown",
   "metadata": {},
   "source": [
    "# Lab 4 Part 1: Linear Regression\n",
    "Jonathan Ting"
   ]
  },
  {
   "cell_type": "code",
   "execution_count": null,
   "metadata": {},
   "outputs": [],
   "source": [
    "# Read in the auto-mpg.csv dataset using pandas \n",
    "# Create the y label vector.\n",
    "    # It will be the MPG column.\n",
    "# The features we will be using for regression are the columns:\n",
    "    # Cylinders\n",
    "    # Displacement\n",
    "    # Horsepower\n",
    "    # Weight\n",
    "    # Acceleration\n",
    "# Ignore:\n",
    "    # Model-year\n",
    "    # Origin\n",
    "    # Car-name columns\n",
    "# Anywhere you are asked to create a train-test split on the data, you should use:\n",
    "    # Fixed random state throughout\n",
    "    # Test size=0.2"
   ]
  },
  {
   "cell_type": "markdown",
   "metadata": {},
   "source": [
    "## Question 1.1"
   ]
  },
  {
   "cell_type": "code",
   "execution_count": null,
   "metadata": {},
   "outputs": [],
   "source": [
    "# For each of the five features (cylinders, displacement, horsepower, weight, and acceleration), do the following:\n",
    "    # Create an X matrix.\n",
    "        # Each row is the current feature of interest.\n",
    "    # Do the train test split as indicated above.\n",
    "        # Create a plot that shows for the training data:\n",
    "            # The current feature on the x-axis.\n",
    "            # The MPG on the y-axis.\n",
    "    # Use sklearn’s LinearRegression() to fit to the training data.\n",
    "    # Create a prediction vector based on the training data.\n",
    "        # Calculate and print the mean-squared error and the R2 score using sklearn on the training set.\n",
    "    # Create a prediction vector based on the testing data.\n",
    "        # Calculate and print the mean-squared error and the R2 score using sklearn on the testing set.\n",
    "    # Print the coefficient and intercept parameters from the sklearn model for that feature.\n",
    "    # Plot the line created from that linear regression along with points for the training data (as one color) and the testing data (as another color).\n",
    "        # Include a legend to denote which are training and which are testing.\n",
    "        # The x-axis should be the feature you’re predicting on\n",
    "        # The y-axis should be MPG."
   ]
  },
  {
   "cell_type": "markdown",
   "metadata": {},
   "source": [
    "## Question 1.2"
   ]
  },
  {
   "cell_type": "code",
   "execution_count": null,
   "metadata": {},
   "outputs": [],
   "source": [
    "# Combining all of the data, do the following:\n",
    "    # Create an X matrix that includes all five features.\n",
    "    # Do the train test split as indicated above.\n",
    "    # Use sklearn’s LinearRegression() to fit to the training data.\n",
    "    # Create a prediction vector based on the training data.\n",
    "        # Calculate and print the mean-squared error and the R2 score using sklearn.\n",
    "    # Create a prediction vector based on the testing data.\n",
    "        # Calculate and print the mean-squared error and the R2 score using sklearn."
   ]
  }
 ],
 "metadata": {
  "language_info": {
   "name": "python"
  },
  "orig_nbformat": 4
 },
 "nbformat": 4,
 "nbformat_minor": 2
}
